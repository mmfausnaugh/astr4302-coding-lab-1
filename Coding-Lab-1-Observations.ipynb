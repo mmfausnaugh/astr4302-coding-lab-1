{
 "cells": [
  {
   "cell_type": "markdown",
   "id": "0bc1499b-5605-4a8f-a539-43794e88a168",
   "metadata": {},
   "source": [
    "# Coding Lab 1\n",
    "## Variables, Math, Data Types, Functions, and Loops\n",
    "## Observational Methods\n",
    "### ASTR4301, Prof. Fausnaugh\n",
    "### **Due 2024 Sept. 13, Start of Class**\n",
    "\n",
    "In this coding lab, we will learn some basic Python syntax. We will learn how to define a function, and perform several rounds of large calculations in the blink of an eye.\n",
    "\n",
    "This Coding Lab assumes you do not have any experience with Python or programming. If you want to skip down to Section 5, that is where the problems begin.\n",
    "\n",
    "\n",
    "**Full Effort:** To receive a check, you need to demonstrate full effort. You should run your code in every cell (Shift+Enter). If the code raises an error, you should try to debug it.\n",
    "\n",
    "If you try to debug things for 2 or 3 hours but can't get it to work, make a note of where you stopped with a comment or print function in the cell. Explain in one or two sentences what the error or problem that you are seeing is and what confusion(s) it is causing you.\n",
    "\n",
    "If you don't give an explanation of why there are errors in your code cells or why you did not complete the notebook, you will receive a check-minus.\n",
    "\n",
    "A check-plus is worth extra credit---one check-plus balances a check-minus. So a check-plus gives you an extra 1.5 percentage points on your final grade. I will help you with the coding lab if you bring it to office hours or make an appointment.\n",
    "\n",
    "#### To turn this assignment in, fill in your answers directly into this file (in section \"5. Questions\"). Then right click on 'Coding-Lab-1-Observations.ipynb' in the navigation bar to the left and select \"Download\". Rename the Downloaded file as 'Coding-Lab-1-Observations-LastName.ipynb`. Then email the file to me at Michael.Fausnaugh@ttu.edu.\n",
    "\n",
    "\n"
   ]
  },
  {
   "cell_type": "markdown",
   "id": "ddf53463-fe0f-4a39-9956-9699f5c3b618",
   "metadata": {},
   "source": [
    "## 1. Variables and Math\n"
   ]
  },
  {
   "cell_type": "markdown",
   "id": "47fa8d17-a05a-4be9-ba98-5c3d877a2ab1",
   "metadata": {},
   "source": [
    "\n",
    "You can assign a name to data, in order to reuse the data later. These names are called \"variables,\" and are the way you access the data for future operations. You can name a variable almost anything; the main restrications are (1) the variable cannot start with a number, and (2) the variable cannot have special characters (!,@,#,$, etc.).\n",
    "\n",
    "Numbers in the variable name after the first letter are OK. Underscores \"_\" are also OK, and commonly used in python to separate words.\n",
    "\n",
    "Here are some examples:"
   ]
  },
  {
   "cell_type": "code",
   "execution_count": 26,
   "id": "d99f90aa-3d2d-48b7-ab66-7f25d75355f9",
   "metadata": {},
   "outputs": [
    {
     "data": {
      "text/plain": [
       "(100, 3.333, 1.4142135623730951, 3.14, 3.8e+33)"
      ]
     },
     "execution_count": 26,
     "metadata": {},
     "output_type": "execute_result"
    }
   ],
   "source": [
    "a = 100\n",
    "b =  3.333\n",
    "sqrt_two = 1.4142135623730951\n",
    "pi = 3.14\n",
    "L_sun = 3.8e33\n",
    "\n",
    "a,b,sqrt_two,pi,L_sun"
   ]
  },
  {
   "cell_type": "markdown",
   "id": "8926eae5-7e91-4cec-83a2-21dfd9c51382",
   "metadata": {},
   "source": [
    "There are a mix of \"data types\" : `a` is an integer. `L_sun` is an exponent, this is how we specify scientific notation---we've set `L_sun` equal to the solar luminosity, $L_{\\odot} = 3.8\\times 10^{33}$.\n",
    "\n",
    "Just to emphasize that we really can name the variables anything, we can also write"
   ]
  },
  {
   "cell_type": "code",
   "execution_count": 27,
   "id": "ad8dbccb-8cc6-4351-9c56-267f17829daa",
   "metadata": {},
   "outputs": [
    {
     "data": {
      "text/plain": [
       "1.4142135623730951"
      ]
     },
     "execution_count": 27,
     "metadata": {},
     "output_type": "execute_result"
    }
   ],
   "source": [
    "my_variable = 1.4142135623730951\n",
    "my_variable"
   ]
  },
  {
   "cell_type": "markdown",
   "id": "287e2a8d-c9bb-4d07-923b-c56ed704a0cf",
   "metadata": {},
   "source": [
    "The following mathematical operators are available:\n",
    "\n",
    "- `+` : Addition\n",
    "- `-` : Subtraction\n",
    "- `*` : Multiplication\n",
    "- `/` : Division\n",
    "- `**`: Exponentiation\n",
    "\n",
    "You can use these operators like so:"
   ]
  },
  {
   "cell_type": "code",
   "execution_count": 28,
   "id": "869064e7-a2b4-4fdc-ae65-37559f9a513d",
   "metadata": {},
   "outputs": [
    {
     "data": {
      "text/plain": [
       "96.667"
      ]
     },
     "execution_count": 28,
     "metadata": {},
     "output_type": "execute_result"
    }
   ],
   "source": [
    "a = 100\n",
    "b =  3.333\n",
    "a - b"
   ]
  },
  {
   "cell_type": "code",
   "execution_count": 29,
   "id": "f0faa451-edfb-4888-91f2-4b83a8ced442",
   "metadata": {},
   "outputs": [
    {
     "data": {
      "text/plain": [
       "333.3"
      ]
     },
     "execution_count": 29,
     "metadata": {},
     "output_type": "execute_result"
    }
   ],
   "source": [
    "a*b"
   ]
  },
  {
   "cell_type": "code",
   "execution_count": 30,
   "id": "f03a14ca-6e51-4e60-a46b-a7dbedbee957",
   "metadata": {},
   "outputs": [
    {
     "data": {
      "text/plain": [
       "10000"
      ]
     },
     "execution_count": 30,
     "metadata": {},
     "output_type": "execute_result"
    }
   ],
   "source": [
    "a**2"
   ]
  },
  {
   "cell_type": "code",
   "execution_count": 31,
   "id": "8e1df7fc-70c3-4d8e-8155-c02d870bbeff",
   "metadata": {},
   "outputs": [
    {
     "data": {
      "text/plain": [
       "31400.0"
      ]
     },
     "execution_count": 31,
     "metadata": {},
     "output_type": "execute_result"
    }
   ],
   "source": [
    "pi*a**2"
   ]
  },
  {
   "cell_type": "markdown",
   "id": "e5792b51-f8c4-4d6a-8729-60986aad7068",
   "metadata": {},
   "source": [
    "Python respects order of operations, but it is best to explicitly specify what you want with parentheses. For example"
   ]
  },
  {
   "cell_type": "code",
   "execution_count": 32,
   "id": "895e03a6-6d00-41f3-9b5b-870ac2818022",
   "metadata": {},
   "outputs": [
    {
     "data": {
      "text/plain": [
       "31400.0"
      ]
     },
     "execution_count": 32,
     "metadata": {},
     "output_type": "execute_result"
    }
   ],
   "source": [
    "(a**2)*pi"
   ]
  },
  {
   "cell_type": "code",
   "execution_count": 33,
   "id": "16f54363-1ffd-4516-a3c9-bde676d84d7c",
   "metadata": {},
   "outputs": [
    {
     "data": {
      "text/plain": [
       "3630780547701.0176"
      ]
     },
     "execution_count": 33,
     "metadata": {},
     "output_type": "execute_result"
    }
   ],
   "source": [
    "a**(2*pi)"
   ]
  },
  {
   "cell_type": "markdown",
   "id": "55f87925",
   "metadata": {},
   "source": [
    "In the cell below, calculate the luminosity of a 350 $L_\\odot$ star, in ergs per second."
   ]
  },
  {
   "cell_type": "code",
   "execution_count": 20,
   "id": "e7da5a9b",
   "metadata": {},
   "outputs": [],
   "source": [
    "L_sun = 3.8e33 #luminosity of the sun, in ergs per second\n",
    "\n"
   ]
  },
  {
   "cell_type": "markdown",
   "id": "638063fe-af0a-440e-9c80-06283991330d",
   "metadata": {},
   "source": [
    "We can assign variables to the results of expressions:"
   ]
  },
  {
   "cell_type": "code",
   "execution_count": 11,
   "id": "9225b6a1-c432-4bcf-912f-167e3254b775",
   "metadata": {},
   "outputs": [
    {
     "data": {
      "text/plain": [
       "31400.0"
      ]
     },
     "execution_count": 11,
     "metadata": {},
     "output_type": "execute_result"
    }
   ],
   "source": [
    "area = pi*(a**2)\n",
    "area"
   ]
  },
  {
   "cell_type": "markdown",
   "id": "8ea6e207-904e-416f-af89-2dc98666d580",
   "metadata": {},
   "source": [
    "And we can rename variables at anytime. "
   ]
  },
  {
   "cell_type": "code",
   "execution_count": 4,
   "id": "1d519c75-4d08-4cf8-bfbc-9a82f9d4bce3",
   "metadata": {},
   "outputs": [
    {
     "data": {
      "text/plain": [
       "31400.0"
      ]
     },
     "execution_count": 4,
     "metadata": {},
     "output_type": "execute_result"
    }
   ],
   "source": [
    "b = 3.33\n",
    "b = pi*(a**2)\n",
    "b"
   ]
  },
  {
   "cell_type": "markdown",
   "id": "22b54dae-3a55-4e03-9e21-853b891da2ca",
   "metadata": {},
   "source": [
    "We can even reasign a variable with an expression using itself."
   ]
  },
  {
   "cell_type": "code",
   "execution_count": 5,
   "id": "6c27153d-6cd5-409d-b540-1f5fb2c50349",
   "metadata": {},
   "outputs": [
    {
     "data": {
      "text/plain": [
       "62800.0"
      ]
     },
     "execution_count": 5,
     "metadata": {},
     "output_type": "execute_result"
    }
   ],
   "source": [
    "a = 100\n",
    "area = pi*(a**2)\n",
    "area = area + area\n",
    "area"
   ]
  },
  {
   "cell_type": "markdown",
   "id": "fec1b089",
   "metadata": {},
   "source": [
    "In the cell below, calculate the value of $y = (65x^4 + 87x^3 + x^2 + 9.3x)^3$ for $x=17$."
   ]
  },
  {
   "cell_type": "code",
   "execution_count": null,
   "id": "f93db97f",
   "metadata": {},
   "outputs": [],
   "source": []
  },
  {
   "cell_type": "markdown",
   "id": "221a5810-21f2-4285-95f6-22089365b82f",
   "metadata": {},
   "source": [
    "## 2. Other Data Types and Containers\n"
   ]
  },
  {
   "cell_type": "markdown",
   "id": "27e6c6a2-ad99-40b4-a6ec-4d4208ddc960",
   "metadata": {},
   "source": [
    "Besides numbers, you can assign text and `True`/`False` values to a variable. Text variables are called \"strings.\" Logical variables are called \"booleans.\"\n",
    "\n",
    "You specify strings with either double or single quotes, as long as they are consistent:"
   ]
  },
  {
   "cell_type": "code",
   "execution_count": 14,
   "id": "cbc9d1ac-3f92-4e51-8ef9-a232dd435d5e",
   "metadata": {},
   "outputs": [
    {
     "data": {
      "text/plain": [
       "'Hello World!'"
      ]
     },
     "execution_count": 14,
     "metadata": {},
     "output_type": "execute_result"
    }
   ],
   "source": [
    "my_message = \"Hello World!\"\n",
    "my_message"
   ]
  },
  {
   "cell_type": "code",
   "execution_count": 15,
   "id": "2fe33a4d-d016-4cd4-b424-64d8d1bb8ac1",
   "metadata": {},
   "outputs": [
    {
     "data": {
      "text/plain": [
       "'The Sun, and Sirius. Planets are also bright.'"
      ]
     },
     "execution_count": 15,
     "metadata": {},
     "output_type": "execute_result"
    }
   ],
   "source": [
    "bright_objects = 'The Sun, and Sirius. Planets are also bright.'\n",
    "bright_objects"
   ]
  },
  {
   "cell_type": "markdown",
   "id": "4aca2b22-03a2-4028-a15f-654858d187ad",
   "metadata": {},
   "source": [
    "For booleans, you use the keywords `True` and `False`"
   ]
  },
  {
   "cell_type": "code",
   "execution_count": 16,
   "id": "cc0f67d1-21b9-4f24-b0fa-d69170b9e6ab",
   "metadata": {},
   "outputs": [
    {
     "data": {
      "text/plain": [
       "True"
      ]
     },
     "execution_count": 16,
     "metadata": {},
     "output_type": "execute_result"
    }
   ],
   "source": [
    "truth_test = True\n",
    "truth_test"
   ]
  },
  {
   "cell_type": "code",
   "execution_count": 6,
   "id": "52b69744-836e-4504-9f9e-e962130150d2",
   "metadata": {},
   "outputs": [
    {
     "data": {
      "text/plain": [
       "False"
      ]
     },
     "execution_count": 6,
     "metadata": {},
     "output_type": "execute_result"
    }
   ],
   "source": [
    "truth_test2 = False\n",
    "truth_test2"
   ]
  },
  {
   "cell_type": "markdown",
   "id": "9a7879d3-d474-4403-8803-d6f553cd0e9a",
   "metadata": {},
   "source": [
    "There are special data types that can hold multiple variables. These are sometimes referred to as \"containers\" or \"collections.\" The main ones to be aware of are\n",
    "\n",
    "- Lists, defined with `[ ]`\n",
    "- Tuples, defined with `( )`\n",
    "- Sets, defined with `{ }`\n",
    "- Dictionaries, defined with `{ <keyword> : data }`\n",
    "\n",
    "We will only use lists today. You can make a list like this:"
   ]
  },
  {
   "cell_type": "code",
   "execution_count": 36,
   "id": "21fccd0d-b59c-4aa2-989f-eeda991f6580",
   "metadata": {},
   "outputs": [
    {
     "data": {
      "text/plain": [
       "[100, 200, 300, 3.14]"
      ]
     },
     "execution_count": 36,
     "metadata": {},
     "output_type": "execute_result"
    }
   ],
   "source": [
    "a = 100\n",
    "b = 200\n",
    "c = 300\n",
    "pi = 3.14\n",
    "\n",
    "my_first_list = [a, b, c, pi]\n",
    "my_first_list"
   ]
  },
  {
   "cell_type": "markdown",
   "id": "0eabc850-9fb9-4ece-87bf-f825f733a253",
   "metadata": {},
   "source": [
    "You access elements of the list using an \"index.\" The first element of the list is index 0, the second is index 1, the third is index 2, etc. Note that sometimes other programming languages use indices starting at 1.\n",
    "\n",
    "To get an element of the list:"
   ]
  },
  {
   "cell_type": "code",
   "execution_count": 37,
   "id": "bc21fd57-8c16-42ec-b80d-babd75d0c622",
   "metadata": {},
   "outputs": [
    {
     "data": {
      "text/plain": [
       "100"
      ]
     },
     "execution_count": 37,
     "metadata": {},
     "output_type": "execute_result"
    }
   ],
   "source": [
    "my_first_list[0]"
   ]
  },
  {
   "cell_type": "code",
   "execution_count": 38,
   "id": "3097f4d0-8d11-4c00-a07b-e1ffd79148cb",
   "metadata": {},
   "outputs": [
    {
     "data": {
      "text/plain": [
       "3.14"
      ]
     },
     "execution_count": 38,
     "metadata": {},
     "output_type": "execute_result"
    }
   ],
   "source": [
    "my_first_list[3]"
   ]
  },
  {
   "cell_type": "markdown",
   "id": "c355a698",
   "metadata": {},
   "source": [
    "Write a line of code that extracts the 7th element from the list `test_list`."
   ]
  },
  {
   "cell_type": "code",
   "execution_count": 42,
   "id": "a8bd39ea",
   "metadata": {},
   "outputs": [
    {
     "data": {
      "text/plain": [
       "13800000000.0"
      ]
     },
     "execution_count": 42,
     "metadata": {},
     "output_type": "execute_result"
    }
   ],
   "source": [
    "test_list = [0, 1, 77, 3.14, 1.e6, 1.98e33, 13.8e9, 55, 66, 3.09e18]\n",
    "\n"
   ]
  },
  {
   "cell_type": "markdown",
   "id": "4a7f9842-a2ca-4754-8636-46f466a2892a",
   "metadata": {},
   "source": [
    "You can replace the element in a list anytime. You can also mix and match data types inside of a list:"
   ]
  },
  {
   "cell_type": "code",
   "execution_count": 43,
   "id": "8eac1a9b-bd50-4bd8-93f6-ada85e70872e",
   "metadata": {},
   "outputs": [
    {
     "data": {
      "text/plain": [
       "[100, 200, 'a test string', 3.14]"
      ]
     },
     "execution_count": 43,
     "metadata": {},
     "output_type": "execute_result"
    }
   ],
   "source": [
    "a = 100\n",
    "b = 200\n",
    "c = 300\n",
    "pi = 3.14\n",
    "\n",
    "my_first_list = [a, b, c, pi]\n",
    "my_first_list[2] = \"a test string\"\n",
    "my_first_list"
   ]
  },
  {
   "cell_type": "markdown",
   "id": "3cc89ae7-d476-4e6c-a6bf-772c26f26665",
   "metadata": {},
   "source": [
    "An index can be a variable, and you can pass the variable to the list to get an element:"
   ]
  },
  {
   "cell_type": "code",
   "execution_count": 21,
   "id": "0b24991f-a0ed-45ed-a4b8-d5423cc50cdf",
   "metadata": {},
   "outputs": [
    {
     "data": {
      "text/plain": [
       "'a test string'"
      ]
     },
     "execution_count": 21,
     "metadata": {},
     "output_type": "execute_result"
    }
   ],
   "source": [
    "ii = 2\n",
    "my_first_list[ii]"
   ]
  },
  {
   "cell_type": "markdown",
   "id": "0e08a4f7-c20f-473b-a2da-6e70473d6079",
   "metadata": {},
   "source": [
    "Python gives an error when you give a list index out of range. This is called an Exception, and is useful for figuring out invalid lines of code. Python is pretty good as far as it goes, it will at least tell you what variable is causing problems (`my_first_list` in this example) and what kind of Exception occured (`IndexError`)."
   ]
  },
  {
   "cell_type": "code",
   "execution_count": 44,
   "id": "da33b288-70a8-4c49-b86e-72cb0a3bf804",
   "metadata": {},
   "outputs": [
    {
     "ename": "IndexError",
     "evalue": "list index out of range",
     "output_type": "error",
     "traceback": [
      "\u001b[0;31m---------------------------------------------------------------------------\u001b[0m",
      "\u001b[0;31mIndexError\u001b[0m                                Traceback (most recent call last)",
      "Input \u001b[0;32mIn [44]\u001b[0m, in \u001b[0;36m<cell line: 1>\u001b[0;34m()\u001b[0m\n\u001b[0;32m----> 1\u001b[0m \u001b[43mmy_first_list\u001b[49m\u001b[43m[\u001b[49m\u001b[38;5;241;43m4\u001b[39;49m\u001b[43m]\u001b[49m\n",
      "\u001b[0;31mIndexError\u001b[0m: list index out of range"
     ]
    }
   ],
   "source": [
    "my_first_list[4]"
   ]
  },
  {
   "cell_type": "markdown",
   "id": "17bf5e6a-65ba-4f8b-99d4-b51890b2994d",
   "metadata": {},
   "source": [
    "## 3. Functions"
   ]
  },
  {
   "cell_type": "markdown",
   "id": "6266c9a5-2c5f-45a2-aee3-28916be3f3e9",
   "metadata": {
    "jp-MarkdownHeadingCollapsed": true
   },
   "source": [
    "\n",
    "Everything we have done so far you can also do on a calculator. Programmable and graphing calculators can do some extra things, but you get much more flexibility in a scripting language like Python. The key to this flexibility is to use a function.\n",
    "\n",
    "Here is an example of a function that calculates the square of a number:\n"
   ]
  },
  {
   "cell_type": "code",
   "execution_count": 45,
   "id": "5f48b66e-1a9d-4efe-88d6-4da325960a92",
   "metadata": {},
   "outputs": [],
   "source": [
    "def gimme_the_square(argument1):\n",
    "    output = argument1*argument1\n",
    "    return output"
   ]
  },
  {
   "cell_type": "markdown",
   "id": "1c4d3140-87ed-4e03-a272-b2553b450a08",
   "metadata": {},
   "source": [
    "And you would use this function like this:"
   ]
  },
  {
   "cell_type": "code",
   "execution_count": 60,
   "id": "f8455188-0980-468e-a269-f544cd823c32",
   "metadata": {},
   "outputs": [
    {
     "data": {
      "text/plain": [
       "9.8596"
      ]
     },
     "execution_count": 60,
     "metadata": {},
     "output_type": "execute_result"
    }
   ],
   "source": [
    "pi = 3.14\n",
    "gimme_the_square(pi)"
   ]
  },
  {
   "cell_type": "markdown",
   "id": "6ad61617-bfe4-42f5-82a8-7ad88eec9263",
   "metadata": {},
   "source": [
    "Here is a function that calculates the product of three numbers:"
   ]
  },
  {
   "cell_type": "code",
   "execution_count": 47,
   "id": "d7f03e34-9310-45c8-9f3f-8d9afb721a0c",
   "metadata": {},
   "outputs": [
    {
     "data": {
      "text/plain": [
       "2184"
      ]
     },
     "execution_count": 47,
     "metadata": {},
     "output_type": "execute_result"
    }
   ],
   "source": [
    "def triple_product(arg1,arg2,arg3):\n",
    "    return arg1*arg2*arg3\n",
    "\n",
    "a = 12\n",
    "b = 13\n",
    "c = 14\n",
    "triple_product(a,b,c)"
   ]
  },
  {
   "cell_type": "markdown",
   "id": "b62a30fa-ef19-46c5-b207-7692c0889a1e",
   "metadata": {},
   "source": [
    "In this example, we have 3 inputs, which we call \"arguments\" of the function.\n",
    "\n",
    "Notice in the first example, there was an intermediate step where we defined an `output` variable and then returned the `output` variable. This choice is a matter of taste---there are lots of ways to code up a problem to get the right answer, and we would see no difference if we had just one line, `return argument1*argument1`.  There are some differences under the hood, but we won't worry about that today.\n",
    "\n"
   ]
  },
  {
   "cell_type": "markdown",
   "id": "f41f9c87",
   "metadata": {},
   "source": [
    "Write a function that calculates the ratio of an input number to $\\pi$."
   ]
  },
  {
   "cell_type": "code",
   "execution_count": null,
   "id": "67f6c0a5",
   "metadata": {},
   "outputs": [],
   "source": [
    "def ratio_to_pi():\n",
    "    \n",
    "    "
   ]
  },
  {
   "cell_type": "markdown",
   "id": "637e86ef",
   "metadata": {},
   "source": [
    "We can also have a function return multiple values:\n"
   ]
  },
  {
   "cell_type": "code",
   "execution_count": 25,
   "id": "6cce3175-8ebc-44f7-83fa-4474691a3b03",
   "metadata": {},
   "outputs": [
    {
     "data": {
      "text/plain": [
       "(0.1, 0.05, 0.03333333333333333)"
      ]
     },
     "execution_count": 25,
     "metadata": {},
     "output_type": "execute_result"
    }
   ],
   "source": [
    "def harmonic_series(arg1):\n",
    "    return 1./arg1, 1./(2*arg1), 1./(3*arg1)\n",
    "\n",
    "harmonic_series(10)"
   ]
  },
  {
   "cell_type": "markdown",
   "id": "7433f765-a7d1-429e-869d-370e2d0b7088",
   "metadata": {},
   "source": [
    "Notice that Python packaged the 3 values for us, the `( )` gives us a \"tuple.\" Python is forgiving in that it packaged the output for us in a container, but it is always better to be explicit about what you want. In particular, we are focusing on lists today, so we prefer to write this as:"
   ]
  },
  {
   "cell_type": "code",
   "execution_count": 26,
   "id": "5ef7bc42-6a8d-45c3-b12f-dea2271650e2",
   "metadata": {},
   "outputs": [
    {
     "data": {
      "text/plain": [
       "[0.1, 0.05, 0.03333333333333333]"
      ]
     },
     "execution_count": 26,
     "metadata": {},
     "output_type": "execute_result"
    }
   ],
   "source": [
    "def harmonic_series(arg1):\n",
    "    output_as_a_list = [1./arg1, 1./(2*arg1), 1./(3*arg1)]\n",
    "    return output_as_a_list\n",
    "    \n",
    "harmonic_series(10)"
   ]
  },
  {
   "cell_type": "markdown",
   "id": "cb6b3417-befb-41ae-b642-d2ff8b5d6783",
   "metadata": {},
   "source": [
    "If you need the output for later, assign the output to a new variable"
   ]
  },
  {
   "cell_type": "code",
   "execution_count": 27,
   "id": "f33b6230-9fde-4fb3-9ff3-23e0ed6a8517",
   "metadata": {},
   "outputs": [
    {
     "data": {
      "text/plain": [
       "[0.1, 0.05, 0.03333333333333333]"
      ]
     },
     "execution_count": 27,
     "metadata": {},
     "output_type": "execute_result"
    }
   ],
   "source": [
    "result = harmonic_series(10)\n",
    "result"
   ]
  },
  {
   "cell_type": "markdown",
   "id": "0eed0430-428b-478d-8353-2493d1518ea2",
   "metadata": {},
   "source": [
    "Python has a lot of built in functions. You can read about them here: https://docs.python.org/3/library/functions.html.\n",
    "\n",
    "Some built-in functions are mathy, like `abs()` (absolute value), `pow()` (for \"power\", really exponentiation); some are computer science-y, like `repr()`, `globals()`,`locals()`, and `setattr()`. Others are maybe inbetween, and are super convenient. In particular:\n",
    "\n",
    "- `print(arg1,arg2,...)`: Print the contents of the variables `arg1`,`arg2`,... etc.\n",
    "- `type` : return the data type of the argument\n",
    "- `min`,`max`,`len`: get the minimum value of a list, the maximum value of a list, and the number of elements of a list.\n",
    "\n",
    "`print` is very helpful, since we can now check what is happening in large chunks of code."
   ]
  },
  {
   "cell_type": "code",
   "execution_count": 50,
   "id": "6fb37f42-5a34-4f9c-b456-cd93810f4f5b",
   "metadata": {},
   "outputs": [
    {
     "name": "stdout",
     "output_type": "stream",
     "text": [
      "3 4 blah!\n",
      "here is a second print statement, which will keep track of where we are in the output.\n",
      "The area of a circle with radius 2 is: 12.52\n",
      "min of list: 1\n",
      "max of list: 4\n",
      "number of elements in list: 4\n"
     ]
    }
   ],
   "source": [
    "a = 3\n",
    "b = 4\n",
    "c = 'blah!'\n",
    "print(a,b,c)\n",
    "\n",
    "print('here is a second print statement, which will keep track of where we are in the output.')\n",
    "print(\"The area of a circle with radius 2 is:\", 3.13*(2**2) )\n",
    "\n",
    "test_list = [1,2,3,4]\n",
    "print('min of list:',min( test_list) )\n",
    "print('max of list:',max( test_list) )\n",
    "print('number of elements in list:',len( test_list) )\n",
    "\n"
   ]
  },
  {
   "cell_type": "markdown",
   "id": "7b218fd8",
   "metadata": {},
   "source": [
    "You can also write text right next to you code with something called a comment. Comments are readable by humans, but the computer ignores them. You mark a comment in python with a `#` sign."
   ]
  },
  {
   "cell_type": "code",
   "execution_count": 64,
   "id": "026c9070",
   "metadata": {},
   "outputs": [
    {
     "name": "stdout",
     "output_type": "stream",
     "text": [
      "256\n",
      "3.8e+33\n"
     ]
    }
   ],
   "source": [
    "#this is a comment---the computer will ignore this line.\n",
    "\n",
    "#they are useful to say what your code is doing, and to mark things like units.\n",
    "\n",
    "#for example, this code will raise 2 to the 8th power\n",
    "print(2**8)\n",
    "\n",
    "#and this code defines solar luminosities again\n",
    "L_sun =3.8e33 #this is in units of erg s^-1. BTW, comments can be anywhere after a # sign.\n",
    "print(L_sun)"
   ]
  },
  {
   "cell_type": "markdown",
   "id": "17f081c0-e1af-4760-8093-b6394827f806",
   "metadata": {},
   "source": [
    "There is another kind of built-in function. These functions are associated with a data type, and are known as \"methods.\" Methods belong to a data type. If you look at the help page for a `list`, you will see a list of methods: `append`, `extend`, `insert`, etc. I use `append` a lot, and we will need it in this coding lab:"
   ]
  },
  {
   "cell_type": "code",
   "execution_count": 51,
   "id": "f83eb17b-dade-4280-943b-960f401a4174",
   "metadata": {},
   "outputs": [
    {
     "name": "stdout",
     "output_type": "stream",
     "text": [
      "[100, 200, 300, 3.14, 400]\n"
     ]
    }
   ],
   "source": [
    "a = 100\n",
    "b = 200\n",
    "c = 300\n",
    "pi = 3.14\n",
    "\n",
    "my_first_list = [a, b, c, pi]\n",
    "my_first_list.append(400)\n",
    "print(my_first_list)"
   ]
  },
  {
   "cell_type": "markdown",
   "id": "96fb0c7c-3b49-4706-b1d9-8401d47a1149",
   "metadata": {},
   "source": [
    "So the \"append\" method adds a new element to the list. In python, methods are implemented as functions that \"belong\" to a given data type.  For example, \"append\" doesn't make sense as a method to an integer, so something like `10.append(3)` won't work."
   ]
  },
  {
   "cell_type": "markdown",
   "id": "ae3be8b4",
   "metadata": {},
   "source": [
    "Make a list with numbers 100 through 110. Then append 1.e6 to the list."
   ]
  },
  {
   "cell_type": "code",
   "execution_count": null,
   "id": "f2c077ee",
   "metadata": {},
   "outputs": [],
   "source": [
    "\n",
    "\n"
   ]
  },
  {
   "cell_type": "markdown",
   "id": "aa2cd69e-b744-4caf-bee4-ec001bc05cec",
   "metadata": {},
   "source": [
    "## 4. Loops\n"
   ]
  },
  {
   "cell_type": "markdown",
   "id": "b6b86fea-cfc2-49a7-8ef4-0c5ffbf0a763",
   "metadata": {},
   "source": [
    "\n",
    "There is a built-in function called `range`, which will make a sequence of numbers equal to argument. `range` lets us define \"loops\", which can be used to do a lot of operations quickly.\n",
    "\n",
    "We define a loop like this:\n"
   ]
  },
  {
   "cell_type": "code",
   "execution_count": 55,
   "id": "371e6b31-737c-4e82-b2cc-1870796eaea0",
   "metadata": {},
   "outputs": [
    {
     "name": "stdout",
     "output_type": "stream",
     "text": [
      "printing: 0\n",
      "printing: 1\n",
      "printing: 2\n",
      "printing: 3\n",
      "printing: 4\n",
      "printing: 5\n",
      "printing: 6\n",
      "printing: 7\n",
      "printing: 8\n",
      "printing: 9\n"
     ]
    }
   ],
   "source": [
    "for my_index in range(10):\n",
    "    print('printing:', my_index)"
   ]
  },
  {
   "cell_type": "markdown",
   "id": "a3d232a4-31f3-4c87-8fa6-ee827c6dd270",
   "metadata": {},
   "source": [
    "`my_index` is a variable. We often will use this variable as an index, and we sometimes reserve `ii`, `jj`, `kk`, etc. to name indices in loops. These characters are easy to find in a text search, and relatively rare in English (so we won't usually name a variable with `ii` or `jj` unless it is the variable in a loop).\n",
    "\n",
    "We can do whatever we want within the loop. For example, you can count up numbers 0 to 1000 like this:"
   ]
  },
  {
   "cell_type": "code",
   "execution_count": 56,
   "id": "1379bf22-f56d-4011-ac8e-62cb666fcdcb",
   "metadata": {},
   "outputs": [
    {
     "name": "stdout",
     "output_type": "stream",
     "text": [
      "500500\n"
     ]
    }
   ],
   "source": [
    "total_sum = 0\n",
    "for ii in range(1001):\n",
    "    total_sum += ii\n",
    "print(total_sum)"
   ]
  },
  {
   "cell_type": "markdown",
   "id": "2aaa1e9a-dd32-4107-b6d1-9b7c80ca5430",
   "metadata": {},
   "source": [
    "There is an analytic way of calculating this number---can you verify that this result is correct? Note that range returns the **number** of elements equal to the argument, but the **range is from 0 to `arg-1`**.\n",
    "\n",
    "\n",
    "\n"
   ]
  },
  {
   "cell_type": "markdown",
   "id": "9f9900c0",
   "metadata": {},
   "source": [
    "Write a loop that multiplies numbers 0 through 50 by $\\pi$. Print the result of each calculation."
   ]
  },
  {
   "cell_type": "code",
   "execution_count": null,
   "id": "2583c90a",
   "metadata": {},
   "outputs": [],
   "source": [
    "\n",
    "\n"
   ]
  },
  {
   "cell_type": "markdown",
   "id": "cc211838",
   "metadata": {},
   "source": [
    "You can call a function within a loop, or write a loops of loops."
   ]
  },
  {
   "cell_type": "code",
   "execution_count": 57,
   "id": "f65a6b5a-afe4-46f4-8ef2-2586ba3f0921",
   "metadata": {},
   "outputs": [
    {
     "name": "stdout",
     "output_type": "stream",
     "text": [
      "example loop with a function.\n",
      "ii is currently: 0\n",
      "it's square is:  0\n",
      "ii is currently: 1\n",
      "it's square is:  1\n",
      "ii is currently: 2\n",
      "it's square is:  4\n",
      "ii is currently: 3\n",
      "it's square is:  9\n",
      "ii is currently: 4\n",
      "it's square is:  16\n",
      "example loop of loops\n",
      "input ii: 0 input jj: 0 product: 0\n",
      "input ii: 0 input jj: 1 product: 0\n",
      "input ii: 0 input jj: 2 product: 0\n",
      "input ii: 1 input jj: 0 product: 0\n",
      "input ii: 1 input jj: 1 product: 1\n",
      "input ii: 1 input jj: 2 product: 2\n",
      "input ii: 2 input jj: 0 product: 0\n",
      "input ii: 2 input jj: 1 product: 2\n",
      "input ii: 2 input jj: 2 product: 4\n",
      "input ii: 3 input jj: 0 product: 0\n",
      "input ii: 3 input jj: 1 product: 3\n",
      "input ii: 3 input jj: 2 product: 6\n",
      "input ii: 4 input jj: 0 product: 0\n",
      "input ii: 4 input jj: 1 product: 4\n",
      "input ii: 4 input jj: 2 product: 8\n"
     ]
    }
   ],
   "source": [
    "def quick_square(x):\n",
    "    return x**2\n",
    "\n",
    "print('example loop with a function.')\n",
    "for ii in range(5):\n",
    "    print('ii is currently:',ii)\n",
    "    print(\"it's square is: \",quick_square(ii))\n",
    "\n",
    "\n",
    "print('example loop of loops')\n",
    "for ii in range(5):\n",
    "    for jj in range(3):\n",
    "        print('input ii:',ii, 'input jj:',jj,'product:',ii*jj)"
   ]
  },
  {
   "cell_type": "markdown",
   "id": "bf879e9e-d9e1-4543-a677-82f71e366c55",
   "metadata": {},
   "source": [
    "Notice how the `print` statements are lined up and indented under the line that starts the loop. The indentation is important---this defines the scope of the loop.\n",
    "\n",
    "Lastly, you can use the variable sequence from `range` as an index for a list. A very common formula is to define a list, and then run `range` on `len(my_list)`:"
   ]
  },
  {
   "cell_type": "code",
   "execution_count": 11,
   "id": "be3a688f-6bc0-4398-9027-b42e48e97ebe",
   "metadata": {},
   "outputs": [
    {
     "name": "stdout",
     "output_type": "stream",
     "text": [
      "printing out list, element by element in a loop:    100\n",
      "printing out list, element by element in a loop:    200\n",
      "printing out list, element by element in a loop:    300\n",
      "printing out list, element by element in a loop:    3.14\n"
     ]
    }
   ],
   "source": [
    "a = 100\n",
    "b = 200\n",
    "c = 300\n",
    "pi = 3.14\n",
    "\n",
    "my_first_list = [a, b, c, pi]\n",
    "\n",
    "for ii in range(len(my_first_list)):\n",
    "    print( 'printing out list, element by element in a loop:   ',my_first_list[ii] )"
   ]
  },
  {
   "cell_type": "markdown",
   "id": "a7baef13-56b7-4408-9539-f29a214dbe55",
   "metadata": {},
   "source": [
    "A typical use case might be to load a lot of data from a database into two or three or four lists, and then do calculations on the data:"
   ]
  },
  {
   "cell_type": "code",
   "execution_count": 59,
   "id": "4f5bd3a8-2334-43fe-8bcb-2fec10a2f931",
   "metadata": {},
   "outputs": [
    {
     "name": "stdout",
     "output_type": "stream",
     "text": [
      "area of ellipse  0 :   0.3455749\n",
      "area of ellipse  1 :   1.3822996\n",
      "area of ellipse  2 :   3.1101740999999996\n",
      "area of ellipse  3 :   5.5291984\n"
     ]
    }
   ],
   "source": [
    "ellipse_major_axis = [1.1, 2.2, 3.3, 4.4 ]\n",
    "ellipse_minor_axis = [0.1, 0.2, 0.3, 0.4 ]\n",
    "pi = 3.14159\n",
    "\n",
    "for ii in range(len( ellipse_major_axis)):\n",
    "    major_axis_use = ellipse_major_axis[ii]\n",
    "    minor_axis_use = ellipse_minor_axis[ii]\n",
    "    area_of_ellipse = pi*major_axis_use*minor_axis_use\n",
    "    \n",
    "    print('area of ellipse ', ii,':  ', area_of_ellipse)"
   ]
  },
  {
   "cell_type": "markdown",
   "id": "81ca31e2-1f72-4518-813b-6f4a4f0c515c",
   "metadata": {},
   "source": [
    "## 5. Questions\n",
    "\n",
    "1) Write a function that converts a magnitude to a flux density. Use the given zeropoint, which will convert to fluxes in erg s$^{-1}$ cm$^{-2}$. Test your function by printing the output of your function for the given data."
   ]
  },
  {
   "cell_type": "code",
   "execution_count": 65,
   "id": "83e27393-2baf-4c23-adfc-76c47fad4c0a",
   "metadata": {},
   "outputs": [],
   "source": [
    "def mag_to_flux(parallax):\n",
    "    zeropoint = 11.33\n",
    "\n",
    "    return\n",
    "\n",
    "test_mag = 20 #mag"
   ]
  },
  {
   "cell_type": "markdown",
   "id": "a169b794-d102-48a7-b1c6-bd2ba1e9dd20",
   "metadata": {},
   "source": [
    "2) Write a function that takes a flux (in erg cm$^{-2}$ s$^{-1}$) and distance (in cm), and calculates luminosity. Test your function by printing the output of your function for the given data. "
   ]
  },
  {
   "cell_type": "code",
   "execution_count": 46,
   "id": "6dc02dc8-b6e4-4981-881d-358924b21f8a",
   "metadata": {},
   "outputs": [],
   "source": [
    "def calc_luminosity(flux, distance):\n",
    "\n",
    "    return\n",
    "\n",
    "test_flux = 2.94e-5 #erg s^-1 cm^-2\n",
    "test_distance_pc = 2.4e19 #cm"
   ]
  },
  {
   "cell_type": "markdown",
   "id": "2f1cbeb0-04bb-4c02-b716-aa3bc83bd2dd",
   "metadata": {},
   "source": [
    "4) The following code will import data into 3 lists, `bp_rp`, `g_mag`, `parallax`, and `Teff`. Run the code in the cell to populate the lists with data. (By the way, this only works if you upload the file gaiadr3_100k_star_filtered.csv to the same place as this file.)"
   ]
  },
  {
   "cell_type": "code",
   "execution_count": 49,
   "id": "9c1de48c-d183-4149-a31c-7eabe3f56e7b",
   "metadata": {},
   "outputs": [],
   "source": [
    "import numpy as np\n",
    "bp_rp    = np.loadtxt('gaiadr3_100k_stars_filtered.csv', delimiter=',', usecols=(0))\n",
    "g_mag    = np.loadtxt('gaiadr3_100k_stars_filtered.csv', delimiter=',', usecols=(1))\n",
    "parallax = np.loadtxt('gaiadr3_100k_stars_filtered.csv', delimiter=',', usecols=(2))\n",
    "Teff     = np.loadtxt('gaiadr3_100k_stars_filtered.csv', delimiter=',', usecols=(3))\n"
   ]
  },
  {
   "cell_type": "markdown",
   "id": "e38abc3d-bd3e-4dce-b1fa-577f5e474a12",
   "metadata": {},
   "source": [
    "What just happened? Besides the built-in functions, there are other sets of useful functions out in the world. You have to tell Python that you would like to use these functions, since they aren't loaded by default. This is what `import numpy as np` does. We then use a function from `numpy`, which is called `loadtxt`. The `np.loadtxt` is convenient for remembering where `loadtxt` is from.\n",
    "\n",
    "Anyway, all that happened was that we found a special function to load in data, helpfully called `loadtxt`. Notice that is just a single function to load the data! Hopefully that gives you some idea of how flexible and powerful functions are.\n",
    "\n",
    "These data are from a catalog of galaxies---if you open the file in the left-side navigation bar, you will see what the data file looks like.\n",
    "\n"
   ]
  },
  {
   "cell_type": "markdown",
   "id": "3496e093-f60b-415d-b7cd-679cdcc630ca",
   "metadata": {},
   "source": [
    "How many elements are in each list? How many stars does this correspond to?\n",
    "\n",
    "What is the maximum value of Teff in this list? What is the minimum?\n",
    "\n",
    "If you convert parallax to distance (in parsecs), what is the closest star in this list? What is the most distant star?"
   ]
  },
  {
   "cell_type": "code",
   "execution_count": 1,
   "id": "41c7a6da-9188-4ca3-b17a-81dbbe29bf58",
   "metadata": {},
   "outputs": [],
   "source": [
    "#Use this cell and built in python functions to inspect the data in the lists.\n",
    "\n",
    "#By the way, anything after a '#' sign is called a comment, and Python\n",
    "#knows not to treat this as code. It is very useful for writing notes\n",
    "#right next to the code.\n",
    "\n",
    "#You can give your answer with the print funtion or write it in a comment, once you find the answer.\n",
    "\n",
    "print()"
   ]
  },
  {
   "cell_type": "markdown",
   "id": "ac2ed45b-6c11-4f11-a578-8d414135c07a",
   "metadata": {},
   "source": [
    "5) Using the functions you defined in questions 1, 2, and 3, loop through the stars and calculate the absolute magnitude and luminosity for each. I have provided empty lists that you can store the values in, using `append`."
   ]
  },
  {
   "cell_type": "code",
   "execution_count": 50,
   "id": "48f86581-f7c1-46e3-96ff-b1c3cc524c71",
   "metadata": {},
   "outputs": [
    {
     "ename": "TypeError",
     "evalue": "list.append() takes exactly one argument (0 given)",
     "output_type": "error",
     "traceback": [
      "\u001b[0;31m---------------------------------------------------------------------------\u001b[0m",
      "\u001b[0;31mTypeError\u001b[0m                                 Traceback (most recent call last)",
      "Cell \u001b[0;32mIn[50], line 7\u001b[0m\n\u001b[1;32m      2\u001b[0m L \u001b[38;5;241m=\u001b[39m []\n\u001b[1;32m      4\u001b[0m \u001b[38;5;28;01mfor\u001b[39;00m ii \u001b[38;5;129;01min\u001b[39;00m \u001b[38;5;28mrange\u001b[39m(\u001b[38;5;28mlen\u001b[39m(g_mag)):\n\u001b[0;32m----> 7\u001b[0m     \u001b[43mabs_mag\u001b[49m\u001b[38;5;241;43m.\u001b[39;49m\u001b[43mappend\u001b[49m\u001b[43m(\u001b[49m\u001b[43m  \u001b[49m\u001b[43m)\u001b[49m\n\u001b[1;32m      8\u001b[0m     L\u001b[38;5;241m.\u001b[39mappend(  )\n",
      "\u001b[0;31mTypeError\u001b[0m: list.append() takes exactly one argument (0 given)"
     ]
    }
   ],
   "source": [
    "abs_mag_output = []\n",
    "L_output = []\n",
    "\n",
    "for ii in range(len(g_mag)):\n",
    "\n",
    "\n",
    "    abs_mag_output.append(  )\n",
    "    L_output.append(  )\n",
    "\n"
   ]
  },
  {
   "cell_type": "markdown",
   "id": "8edfbb65-a49b-465a-8aa0-5efd5b352060",
   "metadata": {},
   "source": [
    "6) To visualize this data, we will use a plotting package called `matplotlib`.  Plotting takes a lot of specialized functions. I've set up a template for you to make the plots.\n",
    "\n",
    "   For the `plot` function, you give it 2 lists, one for the x-coordinate and one for the y-coordinate. Populate the correct variables (lists) in the `plot` functionto make a CMD with absolute G mag as a function of BP-RP color. Then repeat, but make an HR-Diagram of Luminosity as a function of Temperature."
   ]
  },
  {
   "cell_type": "code",
   "execution_count": 1,
   "id": "0c4eacf2-aff5-45cc-a565-2fcd0f83cdae",
   "metadata": {},
   "outputs": [
    {
     "ename": "NameError",
     "evalue": "name 'xx' is not defined",
     "output_type": "error",
     "traceback": [
      "\u001b[0;31m---------------------------------------------------------------------------\u001b[0m",
      "\u001b[0;31mNameError\u001b[0m                                 Traceback (most recent call last)",
      "Cell \u001b[0;32mIn[1], line 11\u001b[0m\n\u001b[1;32m      8\u001b[0m ylim(\u001b[38;5;241m16\u001b[39m,\u001b[38;5;241m-\u001b[39m\u001b[38;5;241m3\u001b[39m)\n\u001b[1;32m     10\u001b[0m \u001b[38;5;66;03m#replace the xx's with the correct variables:\u001b[39;00m\n\u001b[0;32m---> 11\u001b[0m plot( \u001b[43mxx\u001b[49m, xx, \u001b[38;5;124m'\u001b[39m\u001b[38;5;124mk.\u001b[39m\u001b[38;5;124m'\u001b[39m) \n\u001b[1;32m     13\u001b[0m figure()\n\u001b[1;32m     14\u001b[0m xlabel(\u001b[38;5;124m'\u001b[39m\u001b[38;5;124mTemperature (K)\u001b[39m\u001b[38;5;124m'\u001b[39m)\n",
      "\u001b[0;31mNameError\u001b[0m: name 'xx' is not defined"
     ]
    },
    {
     "data": {
      "image/png": "[encoded data removed]",
      "text/plain": [
       "<Figure size 640x480 with 1 Axes>"
      ]
     },
     "metadata": {},
     "output_type": "display_data"
    }
   ],
   "source": [
    "%matplotlib inline\n",
    "from matplotlib.pyplot import figure, xlabel,ylabel, xlim, ylim, xscale, yscale, plot\n",
    "\n",
    "\n",
    "figure()\n",
    "xlabel('BP - RP')\n",
    "ylabel('Absolute G-band')\n",
    "ylim(16,-3)\n",
    "\n",
    "#replace the xx's with the correct variables:\n",
    "plot( xx, xx, 'k.',markersize=0.1) \n",
    "\n",
    "figure()\n",
    "xlabel('Temperature (K)')\n",
    "ylabel('Luminosity (L$_\\\\odot$)')\n",
    "xscale('log')\n",
    "yscale('log')\n",
    "xlim(20000,2500)\n",
    "\n",
    "#replace the xx's with the correct variables:\n",
    "plot( xx , xx ,'k.',markersize=0.1) \n",
    "\n",
    "\n"
   ]
  },
  {
   "cell_type": "markdown",
   "id": "1d2ac4ba-0495-4d97-923f-07f124cd0c6e",
   "metadata": {},
   "source": [
    "7) Using a similar loop, calculate the radii of these stars using the Stefan-Boltzmann law."
   ]
  },
  {
   "cell_type": "code",
   "execution_count": null,
   "id": "b65bae99-0b22-44b1-be45-ee27df201c1d",
   "metadata": {},
   "outputs": [],
   "source": [
    "#try to write the loop from scratch. You need a sqrt() function, which I have loaded here, again.\n",
    "from math import sqrt\n",
    "\n",
    "R_output = []\n",
    "sigma = 5.67e-5 #erg/cm^2/s/K^4\n",
    "L_sun = 3.8e33 #erg/s\n",
    "sigma = 5.67e-5 #erg/cm^2/s/K^4\n"
   ]
  },
  {
   "cell_type": "markdown",
   "id": "9e0f135f-d6ed-4d8e-aa2c-3fd468f97b29",
   "metadata": {},
   "source": [
    "If the previous calculation worked, this code will replot the HR-Diagram, but represent the size of the stars with the color."
   ]
  },
  {
   "cell_type": "code",
   "execution_count": null,
   "id": "4c6bc4e7-c6f8-449e-8925-6402732fa7eb",
   "metadata": {},
   "outputs": [],
   "source": [
    "from matplotlib.pyplot import scatter,  colorbar, clabel\n",
    "log_R = []\n",
    "R_sun = 7.e10 #cm\n",
    "\n",
    "for ii in range(len(R_output)):\n",
    "    log_R.append(log10(R_output[ii])/R_sun)\n",
    "\n",
    "figure()\n",
    "xlabel('Temperature (K)')\n",
    "ylabel('Luminosity (L$_\\\\odot$)')\n",
    "xscale('log')\n",
    "yscale('log')\n",
    "xlim(20000,2500)\n",
    "\n",
    "cm = scatter( Teff ,L_output , s=0.5,c= log_R )\n",
    "colorbar(cm,label='log Radius [R$_\\\\odot$]')"
   ]
  }
 ],
 "metadata": {
  "kernelspec": {
   "display_name": "Python 3 (ipykernel)",
   "language": "python",
   "name": "python3"
  },
  "language_info": {
   "codemirror_mode": {
    "name": "ipython",
    "version": 3
   },
   "file_extension": ".py",
   "mimetype": "text/x-python",
   "name": "python",
   "nbconvert_exporter": "python",
   "pygments_lexer": "ipython3",
   "version": "3.10.4"
  }
 },
 "nbformat": 4,
 "nbformat_minor": 5
}
